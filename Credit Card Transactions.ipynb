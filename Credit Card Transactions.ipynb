{
 "cells": [
  {
   "cell_type": "markdown",
   "metadata": {},
   "source": [
    "**The words wrote before:**\n",
    "\n",
    "**Your model is trained on past data. If users come up with a totally new way to commit a fraud, it often takes you some time to be able to react. By the time you get data about that new fraud strategy and retrain the model, many frauds have been already committed.**\n",
    "\n",
    "\n",
    "**A way to overcome this is to use unsupervised machine learning, instead of supervised. With this approach, you don't need to have examples of certain fraud patterns in order to make a prediction. Often, this works by looking at the data and identify sudden clusters of unusual activities.**"
   ]
  },
  {
   "cell_type": "code",
   "execution_count": 290,
   "metadata": {},
   "outputs": [
    {
     "name": "stdout",
     "output_type": "stream",
     "text": [
      "/Users/pg/OneDrive/Duke Assigment/Job Seeking/Collection_DS_takehome_challenges/data/credit_card\n"
     ]
    }
   ],
   "source": [
    "cd /Users/pg/OneDrive/Duke Assigment/Job Seeking/Collection_DS_takehome_challenges/data/credit_card"
   ]
  },
  {
   "cell_type": "code",
   "execution_count": 340,
   "metadata": {},
   "outputs": [],
   "source": [
    "import pandas as pd\n",
    "import numpy as np\n",
    "import seaborn as sns\n",
    "import matplotlib.pyplot as plt\n",
    "\n",
    "from sklearn.preprocessing import StandardScaler\n",
    "from sklearn.decomposition import PCA\n",
    "from sklearn.cluster import KMeans\n",
    "from sklearn.metrics import silhouette_score\n",
    "%matplotlib inline"
   ]
  },
  {
   "cell_type": "code",
   "execution_count": 300,
   "metadata": {},
   "outputs": [],
   "source": [
    "holders = pd.read_csv('cc_info.csv')\n",
    "transactions= pd.read_csv('transactions.csv')"
   ]
  },
  {
   "cell_type": "code",
   "execution_count": 320,
   "metadata": {},
   "outputs": [
    {
     "data": {
      "text/html": [
       "<div>\n",
       "<style scoped>\n",
       "    .dataframe tbody tr th:only-of-type {\n",
       "        vertical-align: middle;\n",
       "    }\n",
       "\n",
       "    .dataframe tbody tr th {\n",
       "        vertical-align: top;\n",
       "    }\n",
       "\n",
       "    .dataframe thead th {\n",
       "        text-align: right;\n",
       "    }\n",
       "</style>\n",
       "<table border=\"1\" class=\"dataframe\">\n",
       "  <thead>\n",
       "    <tr style=\"text-align: right;\">\n",
       "      <th></th>\n",
       "      <th>credit_card</th>\n",
       "      <th>transaction_dollar_amount</th>\n",
       "      <th>Long</th>\n",
       "      <th>Lat</th>\n",
       "      <th>city</th>\n",
       "      <th>state</th>\n",
       "      <th>zipcode</th>\n",
       "      <th>credit_card_limit</th>\n",
       "      <th>month</th>\n",
       "      <th>day</th>\n",
       "      <th>hour</th>\n",
       "      <th>weekday</th>\n",
       "    </tr>\n",
       "  </thead>\n",
       "  <tbody>\n",
       "    <tr>\n",
       "      <th>0</th>\n",
       "      <td>1003715054175576</td>\n",
       "      <td>43.78</td>\n",
       "      <td>-80.174132</td>\n",
       "      <td>40.267370</td>\n",
       "      <td>Houston</td>\n",
       "      <td>PA</td>\n",
       "      <td>15342</td>\n",
       "      <td>20000</td>\n",
       "      <td>9</td>\n",
       "      <td>11</td>\n",
       "      <td>0</td>\n",
       "      <td>4</td>\n",
       "    </tr>\n",
       "    <tr>\n",
       "      <th>1</th>\n",
       "      <td>1003715054175576</td>\n",
       "      <td>103.15</td>\n",
       "      <td>-80.194240</td>\n",
       "      <td>40.180114</td>\n",
       "      <td>Houston</td>\n",
       "      <td>PA</td>\n",
       "      <td>15342</td>\n",
       "      <td>20000</td>\n",
       "      <td>10</td>\n",
       "      <td>24</td>\n",
       "      <td>22</td>\n",
       "      <td>5</td>\n",
       "    </tr>\n",
       "    <tr>\n",
       "      <th>2</th>\n",
       "      <td>1003715054175576</td>\n",
       "      <td>48.55</td>\n",
       "      <td>-80.211033</td>\n",
       "      <td>40.313004</td>\n",
       "      <td>Houston</td>\n",
       "      <td>PA</td>\n",
       "      <td>15342</td>\n",
       "      <td>20000</td>\n",
       "      <td>10</td>\n",
       "      <td>26</td>\n",
       "      <td>18</td>\n",
       "      <td>0</td>\n",
       "    </tr>\n",
       "    <tr>\n",
       "      <th>3</th>\n",
       "      <td>1003715054175576</td>\n",
       "      <td>136.18</td>\n",
       "      <td>-80.174138</td>\n",
       "      <td>40.290895</td>\n",
       "      <td>Houston</td>\n",
       "      <td>PA</td>\n",
       "      <td>15342</td>\n",
       "      <td>20000</td>\n",
       "      <td>10</td>\n",
       "      <td>22</td>\n",
       "      <td>19</td>\n",
       "      <td>3</td>\n",
       "    </tr>\n",
       "    <tr>\n",
       "      <th>4</th>\n",
       "      <td>1003715054175576</td>\n",
       "      <td>71.82</td>\n",
       "      <td>-80.238720</td>\n",
       "      <td>40.166719</td>\n",
       "      <td>Houston</td>\n",
       "      <td>PA</td>\n",
       "      <td>15342</td>\n",
       "      <td>20000</td>\n",
       "      <td>10</td>\n",
       "      <td>26</td>\n",
       "      <td>20</td>\n",
       "      <td>0</td>\n",
       "    </tr>\n",
       "  </tbody>\n",
       "</table>\n",
       "</div>"
      ],
      "text/plain": [
       "        credit_card  transaction_dollar_amount       Long        Lat     city  \\\n",
       "0  1003715054175576                      43.78 -80.174132  40.267370  Houston   \n",
       "1  1003715054175576                     103.15 -80.194240  40.180114  Houston   \n",
       "2  1003715054175576                      48.55 -80.211033  40.313004  Houston   \n",
       "3  1003715054175576                     136.18 -80.174138  40.290895  Houston   \n",
       "4  1003715054175576                      71.82 -80.238720  40.166719  Houston   \n",
       "\n",
       "  state  zipcode  credit_card_limit  month  day  hour  weekday  \n",
       "0    PA    15342              20000      9   11     0        4  \n",
       "1    PA    15342              20000     10   24    22        5  \n",
       "2    PA    15342              20000     10   26    18        0  \n",
       "3    PA    15342              20000     10   22    19        3  \n",
       "4    PA    15342              20000     10   26    20        0  "
      ]
     },
     "execution_count": 320,
     "metadata": {},
     "output_type": "execute_result"
    }
   ],
   "source": [
    "\n",
    "transactions['date']=pd.to_datetime(transactions.date)\n",
    "data = pd.merge(left = transactions, right = holders, how = 'left', left_on= 'credit_card', right_on = 'credit_card')\n",
    "\n",
    "data['year'] = data['date'].apply(lambda x: x.year)\n",
    "data['month'] = data['date'].apply(lambda x: x.month)\n",
    "data['day'] = data['date'].apply(lambda x: x.day)\n",
    "data['hour'] = data['date'].apply(lambda x: x.hour)\n",
    "data['weekday'] = data['date'].apply(lambda x: x.dayofweek)\n",
    "\n",
    "data.drop(labels='date', axis = 1, inplace = True)\n",
    "data.drop(labels='year', axis = 1, inplace = True)\n",
    "data.head()"
   ]
  },
  {
   "cell_type": "markdown",
   "metadata": {},
   "source": [
    "**Q1: Find users that in your dataset never went above the monthly credit card limit calendar months**"
   ]
  },
  {
   "cell_type": "code",
   "execution_count": 214,
   "metadata": {},
   "outputs": [
    {
     "data": {
      "text/html": [
       "<div>\n",
       "<style scoped>\n",
       "    .dataframe tbody tr th:only-of-type {\n",
       "        vertical-align: middle;\n",
       "    }\n",
       "\n",
       "    .dataframe tbody tr th {\n",
       "        vertical-align: top;\n",
       "    }\n",
       "\n",
       "    .dataframe thead th {\n",
       "        text-align: right;\n",
       "    }\n",
       "</style>\n",
       "<table border=\"1\" class=\"dataframe\">\n",
       "  <thead>\n",
       "    <tr style=\"text-align: right;\">\n",
       "      <th></th>\n",
       "      <th>credit_card</th>\n",
       "      <th>month</th>\n",
       "      <th>transaction_dollar_amount</th>\n",
       "    </tr>\n",
       "  </thead>\n",
       "  <tbody>\n",
       "    <tr>\n",
       "      <th>0</th>\n",
       "      <td>1003715054175576</td>\n",
       "      <td>7</td>\n",
       "      <td>162.56</td>\n",
       "    </tr>\n",
       "    <tr>\n",
       "      <th>1</th>\n",
       "      <td>1003715054175576</td>\n",
       "      <td>8</td>\n",
       "      <td>8441.51</td>\n",
       "    </tr>\n",
       "    <tr>\n",
       "      <th>2</th>\n",
       "      <td>1003715054175576</td>\n",
       "      <td>9</td>\n",
       "      <td>11281.56</td>\n",
       "    </tr>\n",
       "    <tr>\n",
       "      <th>3</th>\n",
       "      <td>1003715054175576</td>\n",
       "      <td>10</td>\n",
       "      <td>8954.21</td>\n",
       "    </tr>\n",
       "    <tr>\n",
       "      <th>4</th>\n",
       "      <td>1013870087888817</td>\n",
       "      <td>7</td>\n",
       "      <td>281.43</td>\n",
       "    </tr>\n",
       "  </tbody>\n",
       "</table>\n",
       "</div>"
      ],
      "text/plain": [
       "        credit_card  month  transaction_dollar_amount\n",
       "0  1003715054175576      7                     162.56\n",
       "1  1003715054175576      8                    8441.51\n",
       "2  1003715054175576      9                   11281.56\n",
       "3  1003715054175576     10                    8954.21\n",
       "4  1013870087888817      7                     281.43"
      ]
     },
     "execution_count": 214,
     "metadata": {},
     "output_type": "execute_result"
    }
   ],
   "source": [
    "sum_spend = data.groupby(by = ['credit_card', 'month']).sum()[['transaction_dollar_amount']]\n",
    "sum_spend.reset_index(inplace = True)\n",
    "sum_spend.head()"
   ]
  },
  {
   "cell_type": "code",
   "execution_count": 215,
   "metadata": {},
   "outputs": [
    {
     "data": {
      "text/html": [
       "<div>\n",
       "<style scoped>\n",
       "    .dataframe tbody tr th:only-of-type {\n",
       "        vertical-align: middle;\n",
       "    }\n",
       "\n",
       "    .dataframe tbody tr th {\n",
       "        vertical-align: top;\n",
       "    }\n",
       "\n",
       "    .dataframe thead th {\n",
       "        text-align: right;\n",
       "    }\n",
       "</style>\n",
       "<table border=\"1\" class=\"dataframe\">\n",
       "  <thead>\n",
       "    <tr style=\"text-align: right;\">\n",
       "      <th></th>\n",
       "      <th>credit_card</th>\n",
       "      <th>month</th>\n",
       "      <th>transaction_dollar_amount_x</th>\n",
       "      <th>transaction_dollar_amount_y</th>\n",
       "      <th>Long</th>\n",
       "      <th>Lat</th>\n",
       "      <th>city</th>\n",
       "      <th>state</th>\n",
       "      <th>zipcode</th>\n",
       "      <th>credit_card_limit</th>\n",
       "      <th>day</th>\n",
       "      <th>hour</th>\n",
       "      <th>weekday</th>\n",
       "    </tr>\n",
       "  </thead>\n",
       "  <tbody>\n",
       "    <tr>\n",
       "      <th>0</th>\n",
       "      <td>1003715054175576</td>\n",
       "      <td>7</td>\n",
       "      <td>162.56</td>\n",
       "      <td>45.52</td>\n",
       "      <td>-80.186336</td>\n",
       "      <td>40.168399</td>\n",
       "      <td>Houston</td>\n",
       "      <td>PA</td>\n",
       "      <td>15342</td>\n",
       "      <td>20000</td>\n",
       "      <td>31</td>\n",
       "      <td>20</td>\n",
       "      <td>4</td>\n",
       "    </tr>\n",
       "    <tr>\n",
       "      <th>1</th>\n",
       "      <td>1003715054175576</td>\n",
       "      <td>7</td>\n",
       "      <td>162.56</td>\n",
       "      <td>20.94</td>\n",
       "      <td>-80.262219</td>\n",
       "      <td>40.242532</td>\n",
       "      <td>Houston</td>\n",
       "      <td>PA</td>\n",
       "      <td>15342</td>\n",
       "      <td>20000</td>\n",
       "      <td>31</td>\n",
       "      <td>23</td>\n",
       "      <td>4</td>\n",
       "    </tr>\n",
       "    <tr>\n",
       "      <th>2</th>\n",
       "      <td>1003715054175576</td>\n",
       "      <td>7</td>\n",
       "      <td>162.56</td>\n",
       "      <td>96.10</td>\n",
       "      <td>-80.156132</td>\n",
       "      <td>40.222907</td>\n",
       "      <td>Houston</td>\n",
       "      <td>PA</td>\n",
       "      <td>15342</td>\n",
       "      <td>20000</td>\n",
       "      <td>31</td>\n",
       "      <td>20</td>\n",
       "      <td>4</td>\n",
       "    </tr>\n",
       "    <tr>\n",
       "      <th>3</th>\n",
       "      <td>1003715054175576</td>\n",
       "      <td>8</td>\n",
       "      <td>8441.51</td>\n",
       "      <td>122.65</td>\n",
       "      <td>-80.238186</td>\n",
       "      <td>40.245928</td>\n",
       "      <td>Houston</td>\n",
       "      <td>PA</td>\n",
       "      <td>15342</td>\n",
       "      <td>20000</td>\n",
       "      <td>29</td>\n",
       "      <td>18</td>\n",
       "      <td>5</td>\n",
       "    </tr>\n",
       "    <tr>\n",
       "      <th>4</th>\n",
       "      <td>1003715054175576</td>\n",
       "      <td>8</td>\n",
       "      <td>8441.51</td>\n",
       "      <td>98.00</td>\n",
       "      <td>-80.244063</td>\n",
       "      <td>40.249143</td>\n",
       "      <td>Houston</td>\n",
       "      <td>PA</td>\n",
       "      <td>15342</td>\n",
       "      <td>20000</td>\n",
       "      <td>14</td>\n",
       "      <td>21</td>\n",
       "      <td>4</td>\n",
       "    </tr>\n",
       "  </tbody>\n",
       "</table>\n",
       "</div>"
      ],
      "text/plain": [
       "        credit_card  month  transaction_dollar_amount_x  \\\n",
       "0  1003715054175576      7                       162.56   \n",
       "1  1003715054175576      7                       162.56   \n",
       "2  1003715054175576      7                       162.56   \n",
       "3  1003715054175576      8                      8441.51   \n",
       "4  1003715054175576      8                      8441.51   \n",
       "\n",
       "   transaction_dollar_amount_y       Long        Lat     city state  zipcode  \\\n",
       "0                        45.52 -80.186336  40.168399  Houston    PA    15342   \n",
       "1                        20.94 -80.262219  40.242532  Houston    PA    15342   \n",
       "2                        96.10 -80.156132  40.222907  Houston    PA    15342   \n",
       "3                       122.65 -80.238186  40.245928  Houston    PA    15342   \n",
       "4                        98.00 -80.244063  40.249143  Houston    PA    15342   \n",
       "\n",
       "   credit_card_limit  day  hour  weekday  \n",
       "0              20000   31    20        4  \n",
       "1              20000   31    23        4  \n",
       "2              20000   31    20        4  \n",
       "3              20000   29    18        5  \n",
       "4              20000   14    21        4  "
      ]
     },
     "execution_count": 215,
     "metadata": {},
     "output_type": "execute_result"
    }
   ],
   "source": [
    "combined_data = pd.merge(left = sum_spend, right = data, how = 'left', on=['credit_card', 'month'])\n",
    "combined_data.head()"
   ]
  },
  {
   "cell_type": "code",
   "execution_count": 216,
   "metadata": {},
   "outputs": [],
   "source": [
    "def compare(df):\n",
    "    if df['credit_card_limit'] > df['transaction_dollar_amount_x']:\n",
    "        return 0\n",
    "    else:\n",
    "        return 1\n"
   ]
  },
  {
   "cell_type": "code",
   "execution_count": 217,
   "metadata": {},
   "outputs": [],
   "source": [
    "combined_data['exceed'] = combined_data.apply(lambda x: compare(x), axis = 1)"
   ]
  },
  {
   "cell_type": "code",
   "execution_count": 218,
   "metadata": {},
   "outputs": [
    {
     "name": "stdout",
     "output_type": "stream",
     "text": [
      "862 persons list\n"
     ]
    }
   ],
   "source": [
    "last_data = combined_data.groupby(['credit_card', ]).sum().reset_index()\n",
    "last_data[last_data['exceed'] ==0]['credit_card'].unique()\n",
    "print(str(last_data[last_data['exceed'] ==0]['credit_card'].nunique())+' persons list')"
   ]
  },
  {
   "cell_type": "code",
   "execution_count": null,
   "metadata": {},
   "outputs": [],
   "source": []
  },
  {
   "cell_type": "markdown",
   "metadata": {},
   "source": [
    "**Q2: As soon as a user goes above her monthly limit, it triggers an alert so that the user can be notified about that**"
   ]
  },
  {
   "cell_type": "code",
   "execution_count": 219,
   "metadata": {},
   "outputs": [],
   "source": [
    "def alert(data, month, day):\n",
    "    data = data[(data['month'] == month) & (data['day']<=day)]\n",
    "    limit = data.groupby('credit_card')['credit_card_limit'].min().reset_index()\n",
    "    transaction = data.groupby('credit_card')['transaction_dollar_amount'].sum().reset_index()\n",
    "    \n",
    "    merged = pd.merge(left = transaction, right = limit, on = 'credit_card', how = 'left')\n",
    "    result = merged[merged['transaction_dollar_amount'] > merged['credit_card_limit']]\n",
    "    \n",
    "    return result"
   ]
  },
  {
   "cell_type": "code",
   "execution_count": 220,
   "metadata": {},
   "outputs": [
    {
     "data": {
      "text/html": [
       "<div>\n",
       "<style scoped>\n",
       "    .dataframe tbody tr th:only-of-type {\n",
       "        vertical-align: middle;\n",
       "    }\n",
       "\n",
       "    .dataframe tbody tr th {\n",
       "        vertical-align: top;\n",
       "    }\n",
       "\n",
       "    .dataframe thead th {\n",
       "        text-align: right;\n",
       "    }\n",
       "</style>\n",
       "<table border=\"1\" class=\"dataframe\">\n",
       "  <thead>\n",
       "    <tr style=\"text-align: right;\">\n",
       "      <th></th>\n",
       "      <th>credit_card</th>\n",
       "      <th>transaction_dollar_amount</th>\n",
       "      <th>credit_card_limit</th>\n",
       "    </tr>\n",
       "  </thead>\n",
       "  <tbody>\n",
       "    <tr>\n",
       "      <th>194</th>\n",
       "      <td>2850146878241916</td>\n",
       "      <td>4012.81</td>\n",
       "      <td>4000</td>\n",
       "    </tr>\n",
       "    <tr>\n",
       "      <th>319</th>\n",
       "      <td>3936887050542904</td>\n",
       "      <td>5352.07</td>\n",
       "      <td>4000</td>\n",
       "    </tr>\n",
       "    <tr>\n",
       "      <th>341</th>\n",
       "      <td>4118286032166087</td>\n",
       "      <td>3416.52</td>\n",
       "      <td>3000</td>\n",
       "    </tr>\n",
       "    <tr>\n",
       "      <th>383</th>\n",
       "      <td>4462290711836916</td>\n",
       "      <td>3119.53</td>\n",
       "      <td>2000</td>\n",
       "    </tr>\n",
       "    <tr>\n",
       "      <th>525</th>\n",
       "      <td>5723635641134781</td>\n",
       "      <td>2161.30</td>\n",
       "      <td>2000</td>\n",
       "    </tr>\n",
       "    <tr>\n",
       "      <th>698</th>\n",
       "      <td>7299183791723634</td>\n",
       "      <td>7074.49</td>\n",
       "      <td>7000</td>\n",
       "    </tr>\n",
       "    <tr>\n",
       "      <th>772</th>\n",
       "      <td>7850942767136368</td>\n",
       "      <td>5704.00</td>\n",
       "      <td>4000</td>\n",
       "    </tr>\n",
       "    <tr>\n",
       "      <th>834</th>\n",
       "      <td>8522875529951473</td>\n",
       "      <td>5860.89</td>\n",
       "      <td>5000</td>\n",
       "    </tr>\n",
       "    <tr>\n",
       "      <th>874</th>\n",
       "      <td>8972201384562696</td>\n",
       "      <td>5266.08</td>\n",
       "      <td>5000</td>\n",
       "    </tr>\n",
       "  </tbody>\n",
       "</table>\n",
       "</div>"
      ],
      "text/plain": [
       "          credit_card  transaction_dollar_amount  credit_card_limit\n",
       "194  2850146878241916                    4012.81               4000\n",
       "319  3936887050542904                    5352.07               4000\n",
       "341  4118286032166087                    3416.52               3000\n",
       "383  4462290711836916                    3119.53               2000\n",
       "525  5723635641134781                    2161.30               2000\n",
       "698  7299183791723634                    7074.49               7000\n",
       "772  7850942767136368                    5704.00               4000\n",
       "834  8522875529951473                    5860.89               5000\n",
       "874  8972201384562696                    5266.08               5000"
      ]
     },
     "execution_count": 220,
     "metadata": {},
     "output_type": "execute_result"
    }
   ],
   "source": [
    "alert(data, 8, 20)"
   ]
  },
  {
   "cell_type": "markdown",
   "metadata": {},
   "source": [
    "**Q3: Implement an unsupervised algorithm that returns all transactions that seem unusual and are worth being investigated further**"
   ]
  },
  {
   "cell_type": "markdown",
   "metadata": {},
   "source": [
    "What are the potential fraud actions?\n",
    "\n",
    "1. The transactions taht is against a user's habit. E.g: One users always apend less than 200$ at a time but suddenly spend 20000$\n",
    "\n",
    "2. The location of transaction is far from the usual places."
   ]
  },
  {
   "cell_type": "code",
   "execution_count": null,
   "metadata": {},
   "outputs": [],
   "source": []
  },
  {
   "cell_type": "code",
   "execution_count": null,
   "metadata": {},
   "outputs": [],
   "source": [
    "#calculation distance"
   ]
  },
  {
   "cell_type": "code",
   "execution_count": 306,
   "metadata": {},
   "outputs": [
    {
     "data": {
      "text/html": [
       "<div>\n",
       "<style scoped>\n",
       "    .dataframe tbody tr th:only-of-type {\n",
       "        vertical-align: middle;\n",
       "    }\n",
       "\n",
       "    .dataframe tbody tr th {\n",
       "        vertical-align: top;\n",
       "    }\n",
       "\n",
       "    .dataframe thead th {\n",
       "        text-align: right;\n",
       "    }\n",
       "</style>\n",
       "<table border=\"1\" class=\"dataframe\">\n",
       "  <thead>\n",
       "    <tr style=\"text-align: right;\">\n",
       "      <th></th>\n",
       "      <th>credit_card</th>\n",
       "      <th>transaction_dollar_amount</th>\n",
       "      <th>Long</th>\n",
       "      <th>Lat</th>\n",
       "      <th>city</th>\n",
       "      <th>state</th>\n",
       "      <th>zipcode</th>\n",
       "      <th>credit_card_limit</th>\n",
       "      <th>month</th>\n",
       "      <th>day</th>\n",
       "      <th>hour</th>\n",
       "      <th>weekday</th>\n",
       "    </tr>\n",
       "  </thead>\n",
       "  <tbody>\n",
       "    <tr>\n",
       "      <th>0</th>\n",
       "      <td>1003715054175576</td>\n",
       "      <td>43.78</td>\n",
       "      <td>-80.174132</td>\n",
       "      <td>40.267370</td>\n",
       "      <td>Houston</td>\n",
       "      <td>PA</td>\n",
       "      <td>15342</td>\n",
       "      <td>20000</td>\n",
       "      <td>9</td>\n",
       "      <td>11</td>\n",
       "      <td>0</td>\n",
       "      <td>4</td>\n",
       "    </tr>\n",
       "    <tr>\n",
       "      <th>1</th>\n",
       "      <td>1003715054175576</td>\n",
       "      <td>103.15</td>\n",
       "      <td>-80.194240</td>\n",
       "      <td>40.180114</td>\n",
       "      <td>Houston</td>\n",
       "      <td>PA</td>\n",
       "      <td>15342</td>\n",
       "      <td>20000</td>\n",
       "      <td>10</td>\n",
       "      <td>24</td>\n",
       "      <td>22</td>\n",
       "      <td>5</td>\n",
       "    </tr>\n",
       "    <tr>\n",
       "      <th>2</th>\n",
       "      <td>1003715054175576</td>\n",
       "      <td>48.55</td>\n",
       "      <td>-80.211033</td>\n",
       "      <td>40.313004</td>\n",
       "      <td>Houston</td>\n",
       "      <td>PA</td>\n",
       "      <td>15342</td>\n",
       "      <td>20000</td>\n",
       "      <td>10</td>\n",
       "      <td>26</td>\n",
       "      <td>18</td>\n",
       "      <td>0</td>\n",
       "    </tr>\n",
       "    <tr>\n",
       "      <th>3</th>\n",
       "      <td>1003715054175576</td>\n",
       "      <td>136.18</td>\n",
       "      <td>-80.174138</td>\n",
       "      <td>40.290895</td>\n",
       "      <td>Houston</td>\n",
       "      <td>PA</td>\n",
       "      <td>15342</td>\n",
       "      <td>20000</td>\n",
       "      <td>10</td>\n",
       "      <td>22</td>\n",
       "      <td>19</td>\n",
       "      <td>3</td>\n",
       "    </tr>\n",
       "    <tr>\n",
       "      <th>4</th>\n",
       "      <td>1003715054175576</td>\n",
       "      <td>71.82</td>\n",
       "      <td>-80.238720</td>\n",
       "      <td>40.166719</td>\n",
       "      <td>Houston</td>\n",
       "      <td>PA</td>\n",
       "      <td>15342</td>\n",
       "      <td>20000</td>\n",
       "      <td>10</td>\n",
       "      <td>26</td>\n",
       "      <td>20</td>\n",
       "      <td>0</td>\n",
       "    </tr>\n",
       "  </tbody>\n",
       "</table>\n",
       "</div>"
      ],
      "text/plain": [
       "        credit_card  transaction_dollar_amount       Long        Lat     city  \\\n",
       "0  1003715054175576                      43.78 -80.174132  40.267370  Houston   \n",
       "1  1003715054175576                     103.15 -80.194240  40.180114  Houston   \n",
       "2  1003715054175576                      48.55 -80.211033  40.313004  Houston   \n",
       "3  1003715054175576                     136.18 -80.174138  40.290895  Houston   \n",
       "4  1003715054175576                      71.82 -80.238720  40.166719  Houston   \n",
       "\n",
       "  state  zipcode  credit_card_limit  month  day  hour  weekday  \n",
       "0    PA    15342              20000      9   11     0        4  \n",
       "1    PA    15342              20000     10   24    22        5  \n",
       "2    PA    15342              20000     10   26    18        0  \n",
       "3    PA    15342              20000     10   22    19        3  \n",
       "4    PA    15342              20000     10   26    20        0  "
      ]
     },
     "execution_count": 306,
     "metadata": {},
     "output_type": "execute_result"
    }
   ],
   "source": [
    "data.head()"
   ]
  },
  {
   "cell_type": "code",
   "execution_count": 258,
   "metadata": {},
   "outputs": [],
   "source": [
    "#calculate abnormal consumption"
   ]
  },
  {
   "cell_type": "code",
   "execution_count": 321,
   "metadata": {},
   "outputs": [],
   "source": [
    "address = data.groupby('credit_card')['Long', 'Lat'].mean().reset_index()\n",
    "address = address.rename(columns = {'Long': 'Long_Median', 'Lat': 'Lat_median'})\n",
    "data = pd.merge(left = data, right = address, on = 'credit_card', how = 'left')\n",
    "data['distance'] = np.sqrt((data['Long'] - data['Long_Median'])**2 + (data['Lat'] - data['Lat_median'])**2)\n",
    "data.head()\n",
    "#calculate distance\n",
    "median = data.groupby('credit_card')['transaction_dollar_amount'].median().reset_index()\n",
    "median = median.rename(columns = {'transaction_dollar_amount': 'transaction_median'})\n",
    "data = pd.merge(left = data, right = median, on = 'credit_card', how = 'left')\n",
    "\n",
    "data['transaction_to_media'] = data['transaction_dollar_amount']/data['transaction_median']\n",
    "data['transaction_to_limit'] = data['transaction_dollar_amount']/data['credit_card_limit']\n",
    "#calculate large transactions\n",
    "\n",
    "\n"
   ]
  },
  {
   "cell_type": "code",
   "execution_count": 322,
   "metadata": {},
   "outputs": [
    {
     "data": {
      "text/html": [
       "<div>\n",
       "<style scoped>\n",
       "    .dataframe tbody tr th:only-of-type {\n",
       "        vertical-align: middle;\n",
       "    }\n",
       "\n",
       "    .dataframe tbody tr th {\n",
       "        vertical-align: top;\n",
       "    }\n",
       "\n",
       "    .dataframe thead th {\n",
       "        text-align: right;\n",
       "    }\n",
       "</style>\n",
       "<table border=\"1\" class=\"dataframe\">\n",
       "  <thead>\n",
       "    <tr style=\"text-align: right;\">\n",
       "      <th></th>\n",
       "      <th>credit_card</th>\n",
       "      <th>hour</th>\n",
       "      <th>weekday</th>\n",
       "      <th>distance</th>\n",
       "      <th>transaction_to_media</th>\n",
       "      <th>transaction_to_limit</th>\n",
       "    </tr>\n",
       "  </thead>\n",
       "  <tbody>\n",
       "    <tr>\n",
       "      <th>0</th>\n",
       "      <td>1003715054175576</td>\n",
       "      <td>0</td>\n",
       "      <td>4</td>\n",
       "      <td>2.672342</td>\n",
       "      <td>0.467086</td>\n",
       "      <td>0.002189</td>\n",
       "    </tr>\n",
       "    <tr>\n",
       "      <th>1</th>\n",
       "      <td>1003715054175576</td>\n",
       "      <td>22</td>\n",
       "      <td>5</td>\n",
       "      <td>2.671878</td>\n",
       "      <td>1.100501</td>\n",
       "      <td>0.005158</td>\n",
       "    </tr>\n",
       "    <tr>\n",
       "      <th>2</th>\n",
       "      <td>1003715054175576</td>\n",
       "      <td>18</td>\n",
       "      <td>0</td>\n",
       "      <td>2.719557</td>\n",
       "      <td>0.517977</td>\n",
       "      <td>0.002427</td>\n",
       "    </tr>\n",
       "    <tr>\n",
       "      <th>3</th>\n",
       "      <td>1003715054175576</td>\n",
       "      <td>19</td>\n",
       "      <td>3</td>\n",
       "      <td>2.678229</td>\n",
       "      <td>1.452897</td>\n",
       "      <td>0.006809</td>\n",
       "    </tr>\n",
       "    <tr>\n",
       "      <th>4</th>\n",
       "      <td>1003715054175576</td>\n",
       "      <td>20</td>\n",
       "      <td>0</td>\n",
       "      <td>2.712572</td>\n",
       "      <td>0.766243</td>\n",
       "      <td>0.003591</td>\n",
       "    </tr>\n",
       "  </tbody>\n",
       "</table>\n",
       "</div>"
      ],
      "text/plain": [
       "        credit_card  hour  weekday  distance  transaction_to_media  \\\n",
       "0  1003715054175576     0        4  2.672342              0.467086   \n",
       "1  1003715054175576    22        5  2.671878              1.100501   \n",
       "2  1003715054175576    18        0  2.719557              0.517977   \n",
       "3  1003715054175576    19        3  2.678229              1.452897   \n",
       "4  1003715054175576    20        0  2.712572              0.766243   \n",
       "\n",
       "   transaction_to_limit  \n",
       "0              0.002189  \n",
       "1              0.005158  \n",
       "2              0.002427  \n",
       "3              0.006809  \n",
       "4              0.003591  "
      ]
     },
     "execution_count": 322,
     "metadata": {},
     "output_type": "execute_result"
    }
   ],
   "source": [
    "#drop useless columns\n",
    "labels = ['transaction_dollar_amount', 'transaction_median', 'Long', 'Lat', 'credit_card_limit', 'city', 'state', 'zipcode', 'month', 'day','Long_Median', 'Lat_median']\n",
    "data.drop(labels = labels, axis = 1, inplace = True)\n",
    "data.head()"
   ]
  },
  {
   "cell_type": "code",
   "execution_count": 329,
   "metadata": {},
   "outputs": [
    {
     "name": "stderr",
     "output_type": "stream",
     "text": [
      "/Users/pg/anaconda3/lib/python3.7/site-packages/sklearn/preprocessing/data.py:645: DataConversionWarning: Data with input dtype int64, float64 were all converted to float64 by StandardScaler.\n",
      "  return self.partial_fit(X, y)\n",
      "/Users/pg/anaconda3/lib/python3.7/site-packages/sklearn/base.py:464: DataConversionWarning: Data with input dtype int64, float64 were all converted to float64 by StandardScaler.\n",
      "  return self.fit(X, **fit_params).transform(X)\n"
     ]
    }
   ],
   "source": [
    "#normalize the data for clustering\n",
    "\n",
    "x=data[['hour', 'weekday', 'distance', 'transaction_to_media',\n",
    "       'transaction_to_limit']]\n",
    "scaler = StandardScaler()\n",
    "norm_x = scaler.fit_transform(x)"
   ]
  },
  {
   "cell_type": "code",
   "execution_count": 332,
   "metadata": {},
   "outputs": [
    {
     "data": {
      "text/plain": [
       "array([[-2.33045568,  0.40255827, -0.06192356, -0.27604892, -0.33720796],\n",
       "       [ 0.74551652,  0.97038192, -0.061951  , -0.07816039, -0.11071913],\n",
       "       [ 0.18624885, -1.86873634, -0.05913345, -0.26014984, -0.31901103],\n",
       "       ...,\n",
       "       [-0.09338499, -1.30091269, -0.21456866, -0.23696786,  0.48179376],\n",
       "       [ 0.18624885, -0.16526539, -0.21753443, -0.07827887,  1.32755043],\n",
       "       [-2.33045568,  0.97038192, -0.21585449, -0.05367981,  1.45865479]])"
      ]
     },
     "execution_count": 332,
     "metadata": {},
     "output_type": "execute_result"
    }
   ],
   "source": [
    "norm_x"
   ]
  },
  {
   "cell_type": "code",
   "execution_count": 334,
   "metadata": {},
   "outputs": [],
   "source": [
    "pca = PCA(n_components= 2, random_state = 42)\n",
    "pca_x = pca.fit_transform(norm_x)"
   ]
  },
  {
   "cell_type": "code",
   "execution_count": 335,
   "metadata": {},
   "outputs": [
    {
     "data": {
      "text/plain": [
       "array([[-0.4263006 ,  1.93259625],\n",
       "       [-0.14045051,  0.16034576],\n",
       "       [-0.40247058, -1.45261386],\n",
       "       ...,\n",
       "       [ 0.17891274, -0.85051464],\n",
       "       [ 0.88335593, -0.24437117],\n",
       "       [ 0.99844667,  2.33760897]])"
      ]
     },
     "execution_count": 335,
     "metadata": {},
     "output_type": "execute_result"
    }
   ],
   "source": [
    "pca_x"
   ]
  },
  {
   "cell_type": "code",
   "execution_count": 344,
   "metadata": {},
   "outputs": [
    {
     "data": {
      "text/plain": [
       "[<matplotlib.lines.Line2D at 0x15abb7518>]"
      ]
     },
     "execution_count": 344,
     "metadata": {},
     "output_type": "execute_result"
    },
    {
     "data": {
      "image/png": "[encoded data removed]",
      "text/plain": [
       "<Figure size 720x576 with 1 Axes>"
      ]
     },
     "metadata": {
      "needs_background": "light"
     },
     "output_type": "display_data"
    }
   ],
   "source": [
    "fig, ax = plt.subplots(figsize = (10, 8))\n",
    "ax.plot(pca_x[:, 0], pca_x[:, 1], '.')"
   ]
  },
  {
   "cell_type": "code",
   "execution_count": 345,
   "metadata": {},
   "outputs": [
    {
     "data": {
      "text/plain": [
       "294588"
      ]
     },
     "execution_count": 345,
     "metadata": {},
     "output_type": "execute_result"
    }
   ],
   "source": [
    "len(pca_x)"
   ]
  },
  {
   "cell_type": "code",
   "execution_count": 350,
   "metadata": {},
   "outputs": [],
   "source": [
    "#Kmeans\n",
    "# choose best K (i.e., number of clusters)\n",
    "inertias = []\n",
    "silhouettes = []\n",
    "\n",
    "ks = range(2,16)\n",
    "for k in ks:\n",
    "    kmeans = KMeans(n_clusters=k)\n",
    "    kmeans.fit(pca_x)\n",
    "    \n",
    "    inertias.append(kmeans.inertia_)\n",
    "    #silhouettes.append(silhouette_score(pca_x, kmeans.predict(pca_x)))"
   ]
  },
  {
   "cell_type": "code",
   "execution_count": 425,
   "metadata": {},
   "outputs": [
    {
     "data": {
      "image/png": "[encoded data removed]",
      "text/plain": [
       "<Figure size 1296x432 with 1 Axes>"
      ]
     },
     "metadata": {},
     "output_type": "display_data"
    }
   ],
   "source": [
    "clusters = range(2, 16)\n",
    "# visualization\n",
    "fig, ax = plt.subplots(figsize=(18, 6))\n",
    "ax.plot(clusters, inertias, 'o-', label='Sum of Squared Distances')\n",
    "ax.grid(True)\n",
    "\n",
    "plt.legend(fontsize=12)\n",
    "plt.tight_layout()\n",
    "plt.show()\n",
    "#6 cluster looks the best"
   ]
  },
  {
   "cell_type": "code",
   "execution_count": 352,
   "metadata": {},
   "outputs": [
    {
     "data": {
      "text/plain": [
       "KMeans(algorithm='auto', copy_x=True, init='k-means++', max_iter=300,\n",
       "    n_clusters=6, n_init=10, n_jobs=None, precompute_distances='auto',\n",
       "    random_state=None, tol=0.0001, verbose=0)"
      ]
     },
     "execution_count": 352,
     "metadata": {},
     "output_type": "execute_result"
    }
   ],
   "source": [
    "#5 cluster looks good, let's have a try\n",
    "kmeans = KMeans(n_clusters=6)\n",
    "kmeans.fit(pca_x)"
   ]
  },
  {
   "cell_type": "code",
   "execution_count": 355,
   "metadata": {},
   "outputs": [],
   "source": [
    "x2d= pd.DataFrame(pca_x, columns=['pca1', 'pca2'])\n",
    "x2d ['label']=kmeans.labels_"
   ]
  },
  {
   "cell_type": "code",
   "execution_count": 356,
   "metadata": {},
   "outputs": [
    {
     "data": {
      "text/html": [
       "<div>\n",
       "<style scoped>\n",
       "    .dataframe tbody tr th:only-of-type {\n",
       "        vertical-align: middle;\n",
       "    }\n",
       "\n",
       "    .dataframe tbody tr th {\n",
       "        vertical-align: top;\n",
       "    }\n",
       "\n",
       "    .dataframe thead th {\n",
       "        text-align: right;\n",
       "    }\n",
       "</style>\n",
       "<table border=\"1\" class=\"dataframe\">\n",
       "  <thead>\n",
       "    <tr style=\"text-align: right;\">\n",
       "      <th></th>\n",
       "      <th>pca1</th>\n",
       "      <th>pca2</th>\n",
       "      <th>label</th>\n",
       "    </tr>\n",
       "  </thead>\n",
       "  <tbody>\n",
       "    <tr>\n",
       "      <th>0</th>\n",
       "      <td>-0.426301</td>\n",
       "      <td>1.932596</td>\n",
       "      <td>2</td>\n",
       "    </tr>\n",
       "    <tr>\n",
       "      <th>1</th>\n",
       "      <td>-0.140451</td>\n",
       "      <td>0.160346</td>\n",
       "      <td>4</td>\n",
       "    </tr>\n",
       "    <tr>\n",
       "      <th>2</th>\n",
       "      <td>-0.402471</td>\n",
       "      <td>-1.452614</td>\n",
       "      <td>3</td>\n",
       "    </tr>\n",
       "    <tr>\n",
       "      <th>3</th>\n",
       "      <td>0.032828</td>\n",
       "      <td>-0.346414</td>\n",
       "      <td>4</td>\n",
       "    </tr>\n",
       "    <tr>\n",
       "      <th>4</th>\n",
       "      <td>-0.285935</td>\n",
       "      <td>-1.650209</td>\n",
       "      <td>3</td>\n",
       "    </tr>\n",
       "  </tbody>\n",
       "</table>\n",
       "</div>"
      ],
      "text/plain": [
       "       pca1      pca2  label\n",
       "0 -0.426301  1.932596      2\n",
       "1 -0.140451  0.160346      4\n",
       "2 -0.402471 -1.452614      3\n",
       "3  0.032828 -0.346414      4\n",
       "4 -0.285935 -1.650209      3"
      ]
     },
     "execution_count": 356,
     "metadata": {},
     "output_type": "execute_result"
    }
   ],
   "source": [
    "x2d.head()"
   ]
  },
  {
   "cell_type": "code",
   "execution_count": 359,
   "metadata": {},
   "outputs": [
    {
     "data": {
      "text/plain": [
       "4    148982\n",
       "3    102321\n",
       "2     37646\n",
       "0      3966\n",
       "1      1332\n",
       "5       341\n",
       "Name: label, dtype: int64"
      ]
     },
     "execution_count": 359,
     "metadata": {},
     "output_type": "execute_result"
    }
   ],
   "source": [
    "x2d['label'].value_counts()\n",
    "#cluster 5 looks unique\n",
    "#Let's take a closer look"
   ]
  },
  {
   "cell_type": "code",
   "execution_count": 362,
   "metadata": {},
   "outputs": [
    {
     "name": "stderr",
     "output_type": "stream",
     "text": [
      "/Users/pg/anaconda3/lib/python3.7/site-packages/ipykernel_launcher.py:1: FutureWarning: \n",
      "The current behaviour of 'Series.argmin' is deprecated, use 'idxmin'\n",
      "instead.\n",
      "The behavior of 'argmin' will be corrected to return the positional\n",
      "minimum in the future. For now, use 'series.values.argmin' or\n",
      "'np.argmin(np.array(values))' to get the position of the minimum\n",
      "row.\n",
      "  \"\"\"Entry point for launching an IPython kernel.\n"
     ]
    }
   ],
   "source": [
    "susppicious_label = x2d.label.value_counts().argmin()"
   ]
  },
  {
   "cell_type": "code",
   "execution_count": 381,
   "metadata": {},
   "outputs": [
    {
     "data": {
      "text/html": [
       "<div>\n",
       "<style scoped>\n",
       "    .dataframe tbody tr th:only-of-type {\n",
       "        vertical-align: middle;\n",
       "    }\n",
       "\n",
       "    .dataframe tbody tr th {\n",
       "        vertical-align: top;\n",
       "    }\n",
       "\n",
       "    .dataframe thead th {\n",
       "        text-align: right;\n",
       "    }\n",
       "</style>\n",
       "<table border=\"1\" class=\"dataframe\">\n",
       "  <thead>\n",
       "    <tr style=\"text-align: right;\">\n",
       "      <th></th>\n",
       "      <th>credit_card</th>\n",
       "      <th>date</th>\n",
       "      <th>transaction_dollar_amount</th>\n",
       "      <th>Long</th>\n",
       "      <th>Lat</th>\n",
       "    </tr>\n",
       "  </thead>\n",
       "  <tbody>\n",
       "    <tr>\n",
       "      <th>1220</th>\n",
       "      <td>1087468642191606</td>\n",
       "      <td>2015-08-25 18:37:49</td>\n",
       "      <td>850.83</td>\n",
       "      <td>-121.735805</td>\n",
       "      <td>47.446516</td>\n",
       "    </tr>\n",
       "    <tr>\n",
       "      <th>1223</th>\n",
       "      <td>1087468642191606</td>\n",
       "      <td>2015-09-25 21:34:13</td>\n",
       "      <td>941.49</td>\n",
       "      <td>-121.775082</td>\n",
       "      <td>47.362240</td>\n",
       "    </tr>\n",
       "    <tr>\n",
       "      <th>2529</th>\n",
       "      <td>1126571863414211</td>\n",
       "      <td>2015-08-05 23:18:45</td>\n",
       "      <td>973.85</td>\n",
       "      <td>-80.262542</td>\n",
       "      <td>40.256228</td>\n",
       "    </tr>\n",
       "    <tr>\n",
       "      <th>2591</th>\n",
       "      <td>1126571863414211</td>\n",
       "      <td>2015-09-11 01:33:04</td>\n",
       "      <td>996.17</td>\n",
       "      <td>-80.168257</td>\n",
       "      <td>40.313138</td>\n",
       "    </tr>\n",
       "    <tr>\n",
       "      <th>2793</th>\n",
       "      <td>1126571863414211</td>\n",
       "      <td>2015-08-03 18:45:45</td>\n",
       "      <td>990.85</td>\n",
       "      <td>-80.291488</td>\n",
       "      <td>40.274117</td>\n",
       "    </tr>\n",
       "  </tbody>\n",
       "</table>\n",
       "</div>"
      ],
      "text/plain": [
       "           credit_card                date  transaction_dollar_amount  \\\n",
       "1220  1087468642191606 2015-08-25 18:37:49                     850.83   \n",
       "1223  1087468642191606 2015-09-25 21:34:13                     941.49   \n",
       "2529  1126571863414211 2015-08-05 23:18:45                     973.85   \n",
       "2591  1126571863414211 2015-09-11 01:33:04                     996.17   \n",
       "2793  1126571863414211 2015-08-03 18:45:45                     990.85   \n",
       "\n",
       "            Long        Lat  \n",
       "1220 -121.735805  47.446516  \n",
       "1223 -121.775082  47.362240  \n",
       "2529  -80.262542  40.256228  \n",
       "2591  -80.168257  40.313138  \n",
       "2793  -80.291488  40.274117  "
      ]
     },
     "execution_count": 381,
     "metadata": {},
     "output_type": "execute_result"
    }
   ],
   "source": [
    "suspect = transactions.loc[x2d.label == susppicious_label,:]\n",
    "suspect.head()"
   ]
  },
  {
   "cell_type": "code",
   "execution_count": 423,
   "metadata": {},
   "outputs": [
    {
     "data": {
      "text/plain": [
       "<matplotlib.legend.Legend at 0x1aa39ea5c0>"
      ]
     },
     "execution_count": 423,
     "metadata": {},
     "output_type": "execute_result"
    },
    {
     "data": {
      "image/png": "[encoded data removed]",
      "text/plain": [
       "<Figure size 432x288 with 1 Axes>"
      ]
     },
     "metadata": {},
     "output_type": "display_data"
    }
   ],
   "source": [
    "fig, ax = plt.subplots()\n",
    "#plt.style.use('ggplot')\n",
    "sns.distplot(suspect['transaction_dollar_amount'].values,  bins=50, label = 'Suspect Transactions', color = 'red')\n",
    "sns.distplot(transactions['transaction_dollar_amount'].values, bins=50,label = 'Original Transactions', color = 'blue')\n",
    "plt.legend(loc = 1)"
   ]
  },
  {
   "cell_type": "markdown",
   "metadata": {},
   "source": [
    "**Apparently the suspect transaction has extraordinarily high amount**"
   ]
  },
  {
   "cell_type": "code",
   "execution_count": null,
   "metadata": {},
   "outputs": [],
   "source": []
  }
 ],
 "metadata": {
  "kernelspec": {
   "display_name": "Python 3",
   "language": "python",
   "name": "python3"
  },
  "language_info": {
   "codemirror_mode": {
    "name": "ipython",
    "version": 3
   },
   "file_extension": ".py",
   "mimetype": "text/x-python",
   "name": "python",
   "nbconvert_exporter": "python",
   "pygments_lexer": "ipython3",
   "version": "3.7.3"
  }
 },
 "nbformat": 4,
 "nbformat_minor": 2
}
